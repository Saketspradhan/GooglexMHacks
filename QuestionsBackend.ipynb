{
  "nbformat": 4,
  "nbformat_minor": 0,
  "metadata": {
    "colab": {
      "provenance": []
    },
    "kernelspec": {
      "name": "python3",
      "display_name": "Python 3"
    },
    "language_info": {
      "name": "python"
    }
  },
  "cells": [
    {
      "cell_type": "code",
      "execution_count": 5,
      "metadata": {
        "colab": {
          "base_uri": "https://localhost:8080/"
        },
        "id": "CFep7ql3AKKt",
        "outputId": "6bfca06b-ab8a-4064-bd03-21066b8a4f1e"
      },
      "outputs": [
        {
          "output_type": "stream",
          "name": "stdout",
          "text": [
            "Requirement already satisfied: django in /usr/local/lib/python3.10/dist-packages (5.0.4)\n",
            "Requirement already satisfied: asgiref<4,>=3.7.0 in /usr/local/lib/python3.10/dist-packages (from django) (3.8.1)\n",
            "Requirement already satisfied: sqlparse>=0.3.1 in /usr/local/lib/python3.10/dist-packages (from django) (0.4.4)\n",
            "Requirement already satisfied: typing-extensions>=4 in /usr/local/lib/python3.10/dist-packages (from asgiref<4,>=3.7.0->django) (4.11.0)\n"
          ]
        }
      ],
      "source": [
        "# Backend Dev for Google x MHacks\n",
        "!pip install django"
      ]
    },
    {
      "cell_type": "code",
      "source": [
        "#Make Project\n",
        "import os\n",
        "#os.makedirs('Itinerary') # Create a folder for the project\n",
        "os.chdir('Itinerary') # Change to the project folder\n",
        "!django-admin startproject Itinerary . # Create a Django project named 'Itinerary'"
      ],
      "metadata": {
        "id": "mMntnAO6Bo4h"
      },
      "execution_count": 7,
      "outputs": []
    },
    {
      "cell_type": "code",
      "source": [
        "!python manage.py startapp myapp"
      ],
      "metadata": {
        "id": "t_58IEhEC5F0"
      },
      "execution_count": 8,
      "outputs": []
    },
    {
      "cell_type": "code",
      "source": [],
      "metadata": {
        "id": "ryktboV9DWb6"
      },
      "execution_count": null,
      "outputs": []
    }
  ]
}